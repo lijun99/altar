{
 "cells": [
  {
   "cell_type": "markdown",
   "metadata": {},
   "source": [
    "\n",
    "# Altar2 Framework overview - from An example of Linear Model\n"
   ]
  },
  {
   "cell_type": "markdown",
   "metadata": {},
   "source": [
    "### 1. Create an AlTar application dedicated for Linear Model"
   ]
  },
  {
   "cell_type": "code",
   "execution_count": 1,
   "metadata": {},
   "outputs": [],
   "source": [
    "import altar\n",
    "import altar.models.linear\n",
    "\n",
    "# make a specialized app that uses this model by default\n",
    "class LinearApp(altar.shells.altar, family='altar.applications.linear'):\n",
    "    \"\"\"\n",
    "    A specialized AlTar application that exercises the Linear model\n",
    "    \"\"\"\n",
    "    # user configurable state\n",
    "    model = altar.models.model(default='linear')"
   ]
  },
  {
   "cell_type": "markdown",
   "metadata": {},
   "source": [
    "### 2. Prepare a configuration file where you can specify the parameters of your application\n",
    "\n",
    "`NAME.pfg`, where `NAME` is the name of your application instance.  For example, we use `linear.pfg`.  "
   ]
  },
  {
   "cell_type": "markdown",
   "metadata": {},
   "source": [
    "; the linear app\n",
    "linear:\n",
    "    ; test case configuration\n",
    "    model:\n",
    "        ; the name of the test case\n",
    "        case = patch-9\n",
    "        ; the number of free parameters\n",
    "        parameters = 18\n",
    "        ; the number of observations\n",
    "        observations = 108\n",
    "\n",
    "        ; sample initializer\n",
    "        prep:\n",
    "            parameters = {linear.model.parameters}\n",
    "            sigma = 0.5\n",
    "\n",
    "        ; prior\n",
    "        prior:\n",
    "            parameters = {linear.model.parameters}\n",
    "            sigma = 0.5\n",
    "\n",
    "    ; shell\n",
    "    ; shell = mpi.shells.mpirun ; for running with mpi\n",
    "\n",
    "    ; run configuration\n",
    "    job.tasks = 1 ; number of tasks per host\n",
    "    job.gpus = 0  ; number of gpus per task\n",
    "    job.chains = 2**10 ; number of chains per task\n",
    "\n"
   ]
  },
  {
   "cell_type": "markdown",
   "metadata": {},
   "source": [
    "### 3. Create an instance of the above app and have a test run"
   ]
  },
  {
   "cell_type": "code",
   "execution_count": 4,
   "metadata": {},
   "outputs": [
    {
     "name": "stdout",
     "output_type": "stream",
     "text": [
      "altar: the app component 'linear', an instance of 'altar.applications.linear' is already registered\n"
     ]
    },
    {
     "data": {
      "text/plain": [
       "<__main__.LinearApp at 0x7f4a944d19e8>"
      ]
     },
     "execution_count": 4,
     "metadata": {},
     "output_type": "execute_result"
    }
   ],
   "source": [
    "myapp = LinearApp(name='linear')\n",
    "myapp.initialize()"
   ]
  },
  {
   "cell_type": "code",
   "execution_count": 3,
   "metadata": {},
   "outputs": [
    {
     "data": {
      "text/plain": [
       "<__main__.LinearApp at 0x7f4a944d19e8>"
      ]
     },
     "execution_count": 3,
     "metadata": {},
     "output_type": "execute_result"
    }
   ],
   "source": [
    "myapp.run() # to have a test run"
   ]
  },
  {
   "cell_type": "markdown",
   "metadata": {},
   "source": [
    "### 4. The components of an AlTar application\n",
    "For users, the important components of an AlTar application are \n",
    "* job \n",
    "* controller or annealer\n",
    "* model"
   ]
  },
  {
   "cell_type": "code",
   "execution_count": 5,
   "metadata": {
    "scrolled": false
   },
   "outputs": [
    {
     "name": "stdout",
     "output_type": "stream",
     "text": [
      "component 'linear.job', an instance of 'altar.simulations.runs.job'\n",
      "component 'linear.controller', an instance of 'altar.controllers.annealer'\n",
      "component 'linear.model', an instance of 'altar.models.linear'\n"
     ]
    }
   ],
   "source": [
    "print(myapp.job) # job contains processor infos, \n",
    "print(myapp.controller) # the annealer \n",
    "print(myapp.model) # a Bayesian model"
   ]
  },
  {
   "cell_type": "markdown",
   "metadata": {},
   "source": [
    "Try exploring other components by Pressing Tab after myapp. below"
   ]
  },
  {
   "cell_type": "code",
   "execution_count": 16,
   "metadata": {},
   "outputs": [
    {
     "data": {
      "text/plain": [
       "<pyre.shells.Layout.Layout at 0x7f74800d4d30>"
      ]
     },
     "execution_count": 16,
     "metadata": {},
     "output_type": "execute_result"
    }
   ],
   "source": [
    "myapp."
   ]
  },
  {
   "cell_type": "markdown",
   "metadata": {},
   "source": [
    "### 5. Controller/Annealer\n",
    "Controller/annealer is the primary MCMC processor. It has \n",
    "* worker - AnnealingMethod, could be cuda, sequential(single cpu), mpi\n",
    "* sampler - Metropolis sampler \n",
    "* scheduler - control the annealing schedule (beta from 0 to 1) "
   ]
  },
  {
   "cell_type": "code",
   "execution_count": 20,
   "metadata": {},
   "outputs": [
    {
     "name": "stdout",
     "output_type": "stream",
     "text": [
      "<altar.bayesian.SequentialAnnealing.SequentialAnnealing object at 0x7f4a8b5051d0>\n",
      "component 'linear.controller.sampler', an instance of 'altar.samplers.metropolis'\n",
      "component 'linear.controller.scheduler', an instance of 'altar.schedulers.cov'\n"
     ]
    }
   ],
   "source": [
    "annealer = myapp.controller\n",
    "print(annealer.worker) #annealing method \n",
    "print(annealer.sampler) # metropolis\n",
    "print(annealer.scheduler) #COV coefficient of variance"
   ]
  },
  {
   "cell_type": "code",
   "execution_count": 44,
   "metadata": {},
   "outputs": [],
   "source": [
    "annealer. # explore other component by pressing Tab"
   ]
  },
  {
   "cell_type": "markdown",
   "metadata": {},
   "source": [
    "Worker also keeps the Bayesian state info, such as samples, prior"
   ]
  },
  {
   "cell_type": "code",
   "execution_count": 30,
   "metadata": {},
   "outputs": [
    {
     "name": "stdout",
     "output_type": "stream",
     "text": [
      "0\n",
      "<class 'altar.bayesian.CoolingStep.CoolingStep'>\n"
     ]
    },
    {
     "ename": "AttributeError",
     "evalue": "'NoneType' object has no attribute 'job'",
     "output_type": "error",
     "traceback": [
      "\u001b[0;31m---------------------------------------------------------------------------\u001b[0m",
      "\u001b[0;31mAttributeError\u001b[0m                            Traceback (most recent call last)",
      "\u001b[0;32m<ipython-input-30-49e443fa8571>\u001b[0m in \u001b[0;36m<module>\u001b[0;34m\u001b[0m\n\u001b[1;32m      3\u001b[0m \u001b[0mprint\u001b[0m\u001b[0;34m(\u001b[0m\u001b[0mworker\u001b[0m\u001b[0;34m.\u001b[0m\u001b[0mwid\u001b[0m\u001b[0;34m)\u001b[0m\u001b[0;34m\u001b[0m\u001b[0;34m\u001b[0m\u001b[0m\n\u001b[1;32m      4\u001b[0m \u001b[0mprint\u001b[0m\u001b[0;34m(\u001b[0m\u001b[0mworker\u001b[0m\u001b[0;34m.\u001b[0m\u001b[0mCoolingStep\u001b[0m\u001b[0;34m)\u001b[0m\u001b[0;34m\u001b[0m\u001b[0;34m\u001b[0m\u001b[0m\n\u001b[0;32m----> 5\u001b[0;31m \u001b[0mworker\u001b[0m\u001b[0;34m.\u001b[0m\u001b[0mstep\u001b[0m \u001b[0;34m=\u001b[0m \u001b[0mworker\u001b[0m\u001b[0;34m.\u001b[0m\u001b[0mCoolingStep\u001b[0m\u001b[0;34m.\u001b[0m\u001b[0mstart\u001b[0m\u001b[0;34m(\u001b[0m\u001b[0mannealer\u001b[0m\u001b[0;34m=\u001b[0m\u001b[0mmyapp\u001b[0m\u001b[0;34m.\u001b[0m\u001b[0mcontroller\u001b[0m\u001b[0;34m)\u001b[0m\u001b[0;34m\u001b[0m\u001b[0;34m\u001b[0m\u001b[0m\n\u001b[0m",
      "\u001b[0;32m~/tools/altar/packages/altar/bayesian/CoolingStep.pyc\u001b[0m in \u001b[0;36mstart\u001b[0;34m(cls, annealer)\u001b[0m\n",
      "\u001b[0;31mAttributeError\u001b[0m: 'NoneType' object has no attribute 'job'"
     ]
    }
   ],
   "source": [
    "worker=annealer.worker\n",
    "worker.initialize(application=myapp)\n",
    "print(worker.wid)\n",
    "print(worker.CoolingStep)\n",
    "worker.step = worker.CoolingStep.start(annealer=myapp.controller)"
   ]
  },
  {
   "cell_type": "code",
   "execution_count": 26,
   "metadata": {},
   "outputs": [
    {
     "data": {
      "text/plain": [
       "<altar.simulations.Job.Job at 0x7f4a940366a0>"
      ]
     },
     "execution_count": 26,
     "metadata": {},
     "output_type": "execute_result"
    }
   ],
   "source": [
    "myapp.job"
   ]
  },
  {
   "cell_type": "code",
   "execution_count": 19,
   "metadata": {},
   "outputs": [
    {
     "name": "stdout",
     "output_type": "stream",
     "text": [
      "component 'linear.job', an instance of 'altar.simulations.runs.job'\n",
      "20\n",
      "script\n",
      "0\n",
      "1024\n"
     ]
    }
   ],
   "source": [
    "#### job \n",
    "job = myapp.job\n",
    "print(job)\n",
    "print(job.steps)\n",
    "print(job.mode)\n",
    "print(job.gpus)\n",
    "print(job.chains)"
   ]
  }
 ],
 "metadata": {
  "kernelspec": {
   "display_name": "Python 3",
   "language": "python",
   "name": "python3"
  },
  "language_info": {
   "codemirror_mode": {
    "name": "ipython",
    "version": 3
   },
   "file_extension": ".py",
   "mimetype": "text/x-python",
   "name": "python",
   "nbconvert_exporter": "python",
   "pygments_lexer": "ipython3",
   "version": "3.7.1"
  }
 },
 "nbformat": 4,
 "nbformat_minor": 2
}
